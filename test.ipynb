{
 "cells": [
  {
   "cell_type": "code",
   "execution_count": 9,
   "metadata": {},
   "outputs": [
    {
     "name": "stdout",
     "output_type": "stream",
     "text": [
      "[{'giorno': 'Giorno 1', 'tipo': 'Spinta', 'esercizi': [{'nome': 'Squat con bilanciere', 'serie': 4, 'ripetizioni': 6}, {'nome': 'Panca piana con bilanciere', 'serie': 4, 'ripetizioni': 6}, {'nome': 'Affondi con manubri', 'serie': 3, 'ripetizioni': 8, 'per_gamba': True}, {'nome': 'Dip alle parallele', 'serie': 3, 'ripetizioni': 8}, {'nome': 'Plank', 'serie': 3, 'durata': '60 secondi'}]}, {'giorno': 'Giorno 2', 'tipo': 'Trazione', 'esercizi': [{'nome': 'Stacchi da terra', 'serie': 4, 'ripetizioni': 6}, {'nome': 'Trazioni alla sbarra', 'serie': 4, 'ripetizioni': 6, 'note': 'Aggiungi peso se necessario'}, {'nome': 'Rematore con bilanciere', 'serie': 3, 'ripetizioni': 8}, {'nome': 'Curl con manubri', 'serie': 3, 'ripetizioni': 10}, {'nome': 'Russian twist', 'serie': 3, 'ripetizioni': 20}]}, {'giorno': 'Giorno 3', 'tipo': 'Full Body', 'esercizi': [{'nome': 'Press militare con bilanciere', 'serie': 4, 'ripetizioni': 6}, {'nome': 'Squat frontale', 'serie': 3, 'ripetizioni': 8}, {'nome': 'Pull-up presa inversa', 'serie': 3, 'ripetizioni': 8}, {'nome': 'Estensioni tricipiti sopra la testa', 'serie': 3, 'ripetizioni': 10}, {'nome': 'Leg raises', 'serie': 3, 'ripetizioni': 15}]}]\n"
     ]
    }
   ],
   "source": [
    "import pandas as pd\n",
    "import json\n",
    "\n",
    "with open('allenamento.json', 'r') as file:\n",
    "    data = json.load(file)\n",
    "\n",
    "\n",
    "allenamenti=[]\n",
    "\n",
    "for i in data['allenamento']['giorni']:\n",
    "    allenamenti.append(i)\n",
    "\n",
    "print(allenamenti)\n",
    "\n",
    "\n",
    "for i in allenamenti:\n",
    "    df=pd.DataFrame(i['esercizi'])\n",
    "    df.to_csv(f\"{i[\"giorno\"]}: {i['tipo']}.csv\")\n",
    "\n"
   ]
  },
  {
   "cell_type": "code",
   "execution_count": 13,
   "metadata": {},
   "outputs": [
    {
     "data": {
      "text/plain": [
       "dict_keys(['colazione', 'spuntino_mattina', 'pranzo', 'spuntino_pomeridiano', 'cena', 'spuntino_serale'])"
      ]
     },
     "execution_count": 13,
     "metadata": {},
     "output_type": "execute_result"
    }
   ],
   "source": [
    "import streamlit as st\n",
    "import json\n",
    "\n",
    "st.markdown(\"# Dieta\")\n",
    "\n",
    "with open('dieta.json', 'r') as file:\n",
    "    data = json.load(file)['dieta']['piano_alimentare']\n",
    "\n",
    "data.keys()"
   ]
  },
  {
   "cell_type": "code",
   "execution_count": null,
   "metadata": {},
   "outputs": [],
   "source": []
  }
 ],
 "metadata": {
  "kernelspec": {
   "display_name": "base",
   "language": "python",
   "name": "python3"
  },
  "language_info": {
   "codemirror_mode": {
    "name": "ipython",
    "version": 3
   },
   "file_extension": ".py",
   "mimetype": "text/x-python",
   "name": "python",
   "nbconvert_exporter": "python",
   "pygments_lexer": "ipython3",
   "version": "3.12.4"
  }
 },
 "nbformat": 4,
 "nbformat_minor": 2
}
